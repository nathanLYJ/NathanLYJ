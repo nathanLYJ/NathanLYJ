{
 "cells": [
  {
   "cell_type": "code",
   "execution_count": 2,
   "metadata": {},
   "outputs": [
    {
     "name": "stdout",
     "output_type": "stream",
     "text": [
      "설득 시도: d20 주사위 결과: 20 + 카리스마 보너스: 2 = 22\n"
     ]
    }
   ],
   "source": [
    "import random\n",
    "# 주사위 굴리기 함수\n",
    "def roll_dice(dice_type):\n",
    "    return random.randint(1, dice_type)\n",
    "\n",
    "# 설득 체크 (CHA)\n",
    "charisma_mod = 2\n",
    "roll = roll_dice(20)\n",
    "persuasion = roll + charisma_mod\n",
    "\n",
    "print(f\"설득 시도: d20 주사위 결과: {roll} + 카리스마 보너스: {charisma_mod} = {persuasion}\")\n"
   ]
  }
 ],
 "metadata": {
  "kernelspec": {
   "display_name": "Python 3",
   "language": "python",
   "name": "python3"
  },
  "language_info": {
   "codemirror_mode": {
    "name": "ipython",
    "version": 3
   },
   "file_extension": ".py",
   "mimetype": "text/x-python",
   "name": "python",
   "nbconvert_exporter": "python",
   "pygments_lexer": "ipython3",
   "version": "3.12.3"
  }
 },
 "nbformat": 4,
 "nbformat_minor": 2
}
